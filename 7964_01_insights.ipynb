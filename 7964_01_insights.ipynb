{
 "cells": [
  {
   "cell_type": "code",
   "execution_count": 1,
   "metadata": {},
   "outputs": [],
   "source": [
    "import pandas as pd\n",
    "import numpy as np\n",
    "import seaborn as sns\n",
    "#sns.set(style='white', color_codes=True, font_scale=1.25)\n",
    "import matplotlib.pyplot as plt\n",
    "\n",
    "%matplotlib inline\n",
    "import itertools"
   ]
  },
  {
   "cell_type": "code",
   "execution_count": 2,
   "metadata": {},
   "outputs": [],
   "source": [
    "data_i = pd.read_csv('imdb.csv',escapechar = \"\\\\\")\n",
    "data_m = pd.read_csv('movie_metadata.csv',escapechar = \"\\\\\")"
   ]
  },
  {
   "cell_type": "code",
   "execution_count": 3,
   "metadata": {},
   "outputs": [],
   "source": [
    "df = data_i\n",
    "#df = data_m"
   ]
  },
  {
   "cell_type": "code",
   "execution_count": 4,
   "metadata": {},
   "outputs": [
    {
     "data": {
      "text/html": [
       "<div>\n",
       "<style scoped>\n",
       "    .dataframe tbody tr th:only-of-type {\n",
       "        vertical-align: middle;\n",
       "    }\n",
       "\n",
       "    .dataframe tbody tr th {\n",
       "        vertical-align: top;\n",
       "    }\n",
       "\n",
       "    .dataframe thead th {\n",
       "        text-align: right;\n",
       "    }\n",
       "</style>\n",
       "<table border=\"1\" class=\"dataframe\">\n",
       "  <thead>\n",
       "    <tr style=\"text-align: right;\">\n",
       "      <th></th>\n",
       "      <th>imdbRating</th>\n",
       "      <th>ratingCount</th>\n",
       "      <th>duration</th>\n",
       "      <th>year</th>\n",
       "      <th>nrOfWins</th>\n",
       "      <th>nrOfNominations</th>\n",
       "      <th>nrOfPhotos</th>\n",
       "      <th>nrOfNewsArticles</th>\n",
       "      <th>nrOfUserReviews</th>\n",
       "      <th>nrOfGenre</th>\n",
       "      <th>...</th>\n",
       "      <th>News</th>\n",
       "      <th>RealityTV</th>\n",
       "      <th>Romance</th>\n",
       "      <th>SciFi</th>\n",
       "      <th>Short</th>\n",
       "      <th>Sport</th>\n",
       "      <th>TalkShow</th>\n",
       "      <th>Thriller</th>\n",
       "      <th>War</th>\n",
       "      <th>Western</th>\n",
       "    </tr>\n",
       "  </thead>\n",
       "  <tbody>\n",
       "    <tr>\n",
       "      <th>count</th>\n",
       "      <td>13551.000000</td>\n",
       "      <td>1.355100e+04</td>\n",
       "      <td>13745.000000</td>\n",
       "      <td>14731.000000</td>\n",
       "      <td>14761.000000</td>\n",
       "      <td>14761.000000</td>\n",
       "      <td>14761.000000</td>\n",
       "      <td>14761.000000</td>\n",
       "      <td>14761.000000</td>\n",
       "      <td>14761.000000</td>\n",
       "      <td>...</td>\n",
       "      <td>14761.000000</td>\n",
       "      <td>14761.000000</td>\n",
       "      <td>14761.000000</td>\n",
       "      <td>14761.000000</td>\n",
       "      <td>14761.000000</td>\n",
       "      <td>14761.000000</td>\n",
       "      <td>14761.000000</td>\n",
       "      <td>14761.000000</td>\n",
       "      <td>14761.000000</td>\n",
       "      <td>14761.000000</td>\n",
       "    </tr>\n",
       "    <tr>\n",
       "      <th>mean</th>\n",
       "      <td>6.865707</td>\n",
       "      <td>2.642480e+04</td>\n",
       "      <td>5424.595417</td>\n",
       "      <td>1990.691263</td>\n",
       "      <td>3.090509</td>\n",
       "      <td>4.511754</td>\n",
       "      <td>23.545830</td>\n",
       "      <td>248.223630</td>\n",
       "      <td>103.239550</td>\n",
       "      <td>2.232234</td>\n",
       "      <td>...</td>\n",
       "      <td>0.010839</td>\n",
       "      <td>0.008604</td>\n",
       "      <td>0.127227</td>\n",
       "      <td>0.066798</td>\n",
       "      <td>0.037735</td>\n",
       "      <td>0.016056</td>\n",
       "      <td>0.036109</td>\n",
       "      <td>0.089493</td>\n",
       "      <td>0.032112</td>\n",
       "      <td>0.022153</td>\n",
       "    </tr>\n",
       "    <tr>\n",
       "      <th>std</th>\n",
       "      <td>1.119515</td>\n",
       "      <td>6.506456e+04</td>\n",
       "      <td>2784.823414</td>\n",
       "      <td>22.220563</td>\n",
       "      <td>9.226644</td>\n",
       "      <td>16.182953</td>\n",
       "      <td>65.285788</td>\n",
       "      <td>1051.247069</td>\n",
       "      <td>229.107375</td>\n",
       "      <td>0.828764</td>\n",
       "      <td>...</td>\n",
       "      <td>0.103550</td>\n",
       "      <td>0.092360</td>\n",
       "      <td>0.333239</td>\n",
       "      <td>0.249680</td>\n",
       "      <td>0.190560</td>\n",
       "      <td>0.125694</td>\n",
       "      <td>0.186567</td>\n",
       "      <td>0.285463</td>\n",
       "      <td>0.176303</td>\n",
       "      <td>0.147186</td>\n",
       "    </tr>\n",
       "    <tr>\n",
       "      <th>min</th>\n",
       "      <td>1.000000</td>\n",
       "      <td>5.000000e+00</td>\n",
       "      <td>2.000000</td>\n",
       "      <td>1888.000000</td>\n",
       "      <td>0.000000</td>\n",
       "      <td>0.000000</td>\n",
       "      <td>0.000000</td>\n",
       "      <td>0.000000</td>\n",
       "      <td>0.000000</td>\n",
       "      <td>0.000000</td>\n",
       "      <td>...</td>\n",
       "      <td>0.000000</td>\n",
       "      <td>0.000000</td>\n",
       "      <td>0.000000</td>\n",
       "      <td>0.000000</td>\n",
       "      <td>0.000000</td>\n",
       "      <td>0.000000</td>\n",
       "      <td>0.000000</td>\n",
       "      <td>0.000000</td>\n",
       "      <td>0.000000</td>\n",
       "      <td>0.000000</td>\n",
       "    </tr>\n",
       "    <tr>\n",
       "      <th>25%</th>\n",
       "      <td>6.300000</td>\n",
       "      <td>6.025000e+02</td>\n",
       "      <td>3720.000000</td>\n",
       "      <td>1980.000000</td>\n",
       "      <td>0.000000</td>\n",
       "      <td>0.000000</td>\n",
       "      <td>0.000000</td>\n",
       "      <td>0.000000</td>\n",
       "      <td>3.000000</td>\n",
       "      <td>2.000000</td>\n",
       "      <td>...</td>\n",
       "      <td>0.000000</td>\n",
       "      <td>0.000000</td>\n",
       "      <td>0.000000</td>\n",
       "      <td>0.000000</td>\n",
       "      <td>0.000000</td>\n",
       "      <td>0.000000</td>\n",
       "      <td>0.000000</td>\n",
       "      <td>0.000000</td>\n",
       "      <td>0.000000</td>\n",
       "      <td>0.000000</td>\n",
       "    </tr>\n",
       "    <tr>\n",
       "      <th>50%</th>\n",
       "      <td>7.000000</td>\n",
       "      <td>3.977000e+03</td>\n",
       "      <td>5700.000000</td>\n",
       "      <td>1999.000000</td>\n",
       "      <td>0.000000</td>\n",
       "      <td>0.000000</td>\n",
       "      <td>7.000000</td>\n",
       "      <td>8.000000</td>\n",
       "      <td>30.000000</td>\n",
       "      <td>2.000000</td>\n",
       "      <td>...</td>\n",
       "      <td>0.000000</td>\n",
       "      <td>0.000000</td>\n",
       "      <td>0.000000</td>\n",
       "      <td>0.000000</td>\n",
       "      <td>0.000000</td>\n",
       "      <td>0.000000</td>\n",
       "      <td>0.000000</td>\n",
       "      <td>0.000000</td>\n",
       "      <td>0.000000</td>\n",
       "      <td>0.000000</td>\n",
       "    </tr>\n",
       "    <tr>\n",
       "      <th>75%</th>\n",
       "      <td>7.600000</td>\n",
       "      <td>2.085850e+04</td>\n",
       "      <td>6660.000000</td>\n",
       "      <td>2007.000000</td>\n",
       "      <td>2.000000</td>\n",
       "      <td>3.000000</td>\n",
       "      <td>26.000000</td>\n",
       "      <td>101.000000</td>\n",
       "      <td>103.000000</td>\n",
       "      <td>3.000000</td>\n",
       "      <td>...</td>\n",
       "      <td>0.000000</td>\n",
       "      <td>0.000000</td>\n",
       "      <td>0.000000</td>\n",
       "      <td>0.000000</td>\n",
       "      <td>0.000000</td>\n",
       "      <td>0.000000</td>\n",
       "      <td>0.000000</td>\n",
       "      <td>0.000000</td>\n",
       "      <td>0.000000</td>\n",
       "      <td>0.000000</td>\n",
       "    </tr>\n",
       "    <tr>\n",
       "      <th>max</th>\n",
       "      <td>9.900000</td>\n",
       "      <td>1.183395e+06</td>\n",
       "      <td>68400.000000</td>\n",
       "      <td>2017.000000</td>\n",
       "      <td>226.000000</td>\n",
       "      <td>542.000000</td>\n",
       "      <td>2810.000000</td>\n",
       "      <td>32345.000000</td>\n",
       "      <td>4928.000000</td>\n",
       "      <td>3.000000</td>\n",
       "      <td>...</td>\n",
       "      <td>1.000000</td>\n",
       "      <td>1.000000</td>\n",
       "      <td>1.000000</td>\n",
       "      <td>1.000000</td>\n",
       "      <td>1.000000</td>\n",
       "      <td>1.000000</td>\n",
       "      <td>1.000000</td>\n",
       "      <td>1.000000</td>\n",
       "      <td>1.000000</td>\n",
       "      <td>1.000000</td>\n",
       "    </tr>\n",
       "  </tbody>\n",
       "</table>\n",
       "<p>8 rows × 38 columns</p>\n",
       "</div>"
      ],
      "text/plain": [
       "         imdbRating   ratingCount      duration          year      nrOfWins  \\\n",
       "count  13551.000000  1.355100e+04  13745.000000  14731.000000  14761.000000   \n",
       "mean       6.865707  2.642480e+04   5424.595417   1990.691263      3.090509   \n",
       "std        1.119515  6.506456e+04   2784.823414     22.220563      9.226644   \n",
       "min        1.000000  5.000000e+00      2.000000   1888.000000      0.000000   \n",
       "25%        6.300000  6.025000e+02   3720.000000   1980.000000      0.000000   \n",
       "50%        7.000000  3.977000e+03   5700.000000   1999.000000      0.000000   \n",
       "75%        7.600000  2.085850e+04   6660.000000   2007.000000      2.000000   \n",
       "max        9.900000  1.183395e+06  68400.000000   2017.000000    226.000000   \n",
       "\n",
       "       nrOfNominations    nrOfPhotos  nrOfNewsArticles  nrOfUserReviews  \\\n",
       "count     14761.000000  14761.000000      14761.000000     14761.000000   \n",
       "mean          4.511754     23.545830        248.223630       103.239550   \n",
       "std          16.182953     65.285788       1051.247069       229.107375   \n",
       "min           0.000000      0.000000          0.000000         0.000000   \n",
       "25%           0.000000      0.000000          0.000000         3.000000   \n",
       "50%           0.000000      7.000000          8.000000        30.000000   \n",
       "75%           3.000000     26.000000        101.000000       103.000000   \n",
       "max         542.000000   2810.000000      32345.000000      4928.000000   \n",
       "\n",
       "          nrOfGenre  ...          News     RealityTV       Romance  \\\n",
       "count  14761.000000  ...  14761.000000  14761.000000  14761.000000   \n",
       "mean       2.232234  ...      0.010839      0.008604      0.127227   \n",
       "std        0.828764  ...      0.103550      0.092360      0.333239   \n",
       "min        0.000000  ...      0.000000      0.000000      0.000000   \n",
       "25%        2.000000  ...      0.000000      0.000000      0.000000   \n",
       "50%        2.000000  ...      0.000000      0.000000      0.000000   \n",
       "75%        3.000000  ...      0.000000      0.000000      0.000000   \n",
       "max        3.000000  ...      1.000000      1.000000      1.000000   \n",
       "\n",
       "              SciFi         Short         Sport      TalkShow      Thriller  \\\n",
       "count  14761.000000  14761.000000  14761.000000  14761.000000  14761.000000   \n",
       "mean       0.066798      0.037735      0.016056      0.036109      0.089493   \n",
       "std        0.249680      0.190560      0.125694      0.186567      0.285463   \n",
       "min        0.000000      0.000000      0.000000      0.000000      0.000000   \n",
       "25%        0.000000      0.000000      0.000000      0.000000      0.000000   \n",
       "50%        0.000000      0.000000      0.000000      0.000000      0.000000   \n",
       "75%        0.000000      0.000000      0.000000      0.000000      0.000000   \n",
       "max        1.000000      1.000000      1.000000      1.000000      1.000000   \n",
       "\n",
       "                War       Western  \n",
       "count  14761.000000  14761.000000  \n",
       "mean       0.032112      0.022153  \n",
       "std        0.176303      0.147186  \n",
       "min        0.000000      0.000000  \n",
       "25%        0.000000      0.000000  \n",
       "50%        0.000000      0.000000  \n",
       "75%        0.000000      0.000000  \n",
       "max        1.000000      1.000000  \n",
       "\n",
       "[8 rows x 38 columns]"
      ]
     },
     "execution_count": 4,
     "metadata": {},
     "output_type": "execute_result"
    }
   ],
   "source": [
    "df.describe()"
   ]
  },
  {
   "cell_type": "code",
   "execution_count": 5,
   "metadata": {},
   "outputs": [
    {
     "data": {
      "text/plain": [
       "(14761, 44)"
      ]
     },
     "execution_count": 5,
     "metadata": {},
     "output_type": "execute_result"
    }
   ],
   "source": [
    "df.shape"
   ]
  },
  {
   "cell_type": "code",
   "execution_count": 6,
   "metadata": {},
   "outputs": [
    {
     "data": {
      "text/plain": [
       "2398"
      ]
     },
     "execution_count": 6,
     "metadata": {},
     "output_type": "execute_result"
    }
   ],
   "source": [
    "data_m['director_name'].nunique()"
   ]
  },
  {
   "cell_type": "markdown",
   "metadata": {},
   "source": [
    "The number of unique directors is found to be 2398 in movie_metadata.csv"
   ]
  },
  {
   "cell_type": "code",
   "execution_count": 7,
   "metadata": {
    "scrolled": false
   },
   "outputs": [
    {
     "data": {
      "text/html": [
       "<div>\n",
       "<style scoped>\n",
       "    .dataframe tbody tr th:only-of-type {\n",
       "        vertical-align: middle;\n",
       "    }\n",
       "\n",
       "    .dataframe tbody tr th {\n",
       "        vertical-align: top;\n",
       "    }\n",
       "\n",
       "    .dataframe thead th {\n",
       "        text-align: right;\n",
       "    }\n",
       "</style>\n",
       "<table border=\"1\" class=\"dataframe\">\n",
       "  <thead>\n",
       "    <tr style=\"text-align: right;\">\n",
       "      <th></th>\n",
       "      <th>title_year</th>\n",
       "      <th>title_count</th>\n",
       "    </tr>\n",
       "  </thead>\n",
       "  <tbody>\n",
       "    <tr>\n",
       "      <th>0</th>\n",
       "      <td>1916.0</td>\n",
       "      <td>1</td>\n",
       "    </tr>\n",
       "    <tr>\n",
       "      <th>1</th>\n",
       "      <td>1920.0</td>\n",
       "      <td>1</td>\n",
       "    </tr>\n",
       "    <tr>\n",
       "      <th>2</th>\n",
       "      <td>1925.0</td>\n",
       "      <td>1</td>\n",
       "    </tr>\n",
       "    <tr>\n",
       "      <th>3</th>\n",
       "      <td>1927.0</td>\n",
       "      <td>1</td>\n",
       "    </tr>\n",
       "    <tr>\n",
       "      <th>4</th>\n",
       "      <td>1929.0</td>\n",
       "      <td>2</td>\n",
       "    </tr>\n",
       "    <tr>\n",
       "      <th>...</th>\n",
       "      <td>...</td>\n",
       "      <td>...</td>\n",
       "    </tr>\n",
       "    <tr>\n",
       "      <th>86</th>\n",
       "      <td>2012.0</td>\n",
       "      <td>221</td>\n",
       "    </tr>\n",
       "    <tr>\n",
       "      <th>87</th>\n",
       "      <td>2013.0</td>\n",
       "      <td>237</td>\n",
       "    </tr>\n",
       "    <tr>\n",
       "      <th>88</th>\n",
       "      <td>2014.0</td>\n",
       "      <td>252</td>\n",
       "    </tr>\n",
       "    <tr>\n",
       "      <th>89</th>\n",
       "      <td>2015.0</td>\n",
       "      <td>226</td>\n",
       "    </tr>\n",
       "    <tr>\n",
       "      <th>90</th>\n",
       "      <td>2016.0</td>\n",
       "      <td>106</td>\n",
       "    </tr>\n",
       "  </tbody>\n",
       "</table>\n",
       "<p>91 rows × 2 columns</p>\n",
       "</div>"
      ],
      "text/plain": [
       "    title_year  title_count\n",
       "0       1916.0            1\n",
       "1       1920.0            1\n",
       "2       1925.0            1\n",
       "3       1927.0            1\n",
       "4       1929.0            2\n",
       "..         ...          ...\n",
       "86      2012.0          221\n",
       "87      2013.0          237\n",
       "88      2014.0          252\n",
       "89      2015.0          226\n",
       "90      2016.0          106\n",
       "\n",
       "[91 rows x 2 columns]"
      ]
     },
     "execution_count": 7,
     "metadata": {},
     "output_type": "execute_result"
    }
   ],
   "source": [
    "data = data_m[['title_year','movie_title']].groupby('title_year')['movie_title'].count().rename(\"title_count\").reset_index()\n",
    "data"
   ]
  },
  {
   "cell_type": "code",
   "execution_count": 8,
   "metadata": {},
   "outputs": [
    {
     "data": {
      "text/plain": [
       "<matplotlib.axes._subplots.AxesSubplot at 0x7fd0b6d3f550>"
      ]
     },
     "execution_count": 8,
     "metadata": {},
     "output_type": "execute_result"
    },
    {
     "data": {
      "image/png": "[encoded data removed]",
      "text/plain": [
       "<Figure size 432x288 with 1 Axes>"
      ]
     },
     "metadata": {
      "needs_background": "light"
     },
     "output_type": "display_data"
    }
   ],
   "source": [
    "data_m.title_year.hist(bins=102)"
   ]
  },
  {
   "cell_type": "markdown",
   "metadata": {},
   "source": [
    "The maximum number of movies were released in 2009 (260 movies), followed by 2014 (252 movies) and 2006 (239 movies)."
   ]
  },
  {
   "cell_type": "code",
   "execution_count": 9,
   "metadata": {},
   "outputs": [
    {
     "data": {
      "text/plain": [
       "Text(0.5, 1.0, 'Movie Count by Content Rating')"
      ]
     },
     "execution_count": 9,
     "metadata": {},
     "output_type": "execute_result"
    },
    {
     "data": {
      "image/png": "[encoded data removed]",
      "text/plain": [
       "<Figure size 720x720 with 1 Axes>"
      ]
     },
     "metadata": {
      "needs_background": "light"
     },
     "output_type": "display_data"
    }
   ],
   "source": [
    "movie_yearly_count = data_m['content_rating'].value_counts().sort_index().plot(kind='bar', color='r', alpha=0.5, grid=False, rot=90, figsize=(10,10))\n",
    "movie_yearly_count.set_xlabel('Content Rating')\n",
    "movie_yearly_count.set_ylabel('Movie Count')\n",
    "movie_yearly_count.set_title('Movie Count by Content Rating')"
   ]
  },
  {
   "cell_type": "markdown",
   "metadata": {},
   "source": [
    "The above bar graph indicates that most of the movies released are R rated."
   ]
  },
  {
   "cell_type": "code",
   "execution_count": 10,
   "metadata": {},
   "outputs": [
    {
     "data": {
      "text/plain": [
       "Text(0.5, 1.0, 'Movie Count by IMDB Rating')"
      ]
     },
     "execution_count": 10,
     "metadata": {},
     "output_type": "execute_result"
    },
    {
     "data": {
      "image/png": "[encoded data removed]",
      "text/plain": [
       "<Figure size 1008x1008 with 1 Axes>"
      ]
     },
     "metadata": {
      "needs_background": "light"
     },
     "output_type": "display_data"
    }
   ],
   "source": [
    "movie_yearly_count = data_m['imdb_score'].value_counts().sort_index().plot(kind='bar', color='r', alpha=0.5, grid=False, rot=90, figsize=(14,14))\n",
    "movie_yearly_count.set_xlabel('IMDB Rating')\n",
    "movie_yearly_count.set_ylabel('Movie Count')\n",
    "movie_yearly_count.set_title('Movie Count by IMDB Rating')"
   ]
  },
  {
   "cell_type": "markdown",
   "metadata": {},
   "source": [
    "More than 200 movies received an IMDB rating of 6.7"
   ]
  },
  {
   "cell_type": "code",
   "execution_count": 11,
   "metadata": {},
   "outputs": [
    {
     "name": "stdout",
     "output_type": "stream",
     "text": [
      "Short 0.5\n",
      "Film-Noir 0.6\n",
      "Family 54.6\n",
      "News 0.3\n",
      "War 21.3\n",
      "Animation 24.2\n",
      "Game-Show 0.1\n",
      "Adventure 92.30000000000001\n",
      "Romance 110.7\n",
      "Music 32.6\n",
      "Action 115.3\n",
      "Drama 259.4\n",
      "Horror 56.49999999999999\n",
      "Comedy 187.20000000000002\n",
      "Sport 18.2\n",
      "Western 9.700000000000001\n",
      "Sci-Fi 61.6\n",
      "Documentary 12.1\n",
      "Musical 13.200000000000001\n",
      "Crime 88.9\n",
      "Mystery 50.0\n",
      "Fantasy 61.0\n",
      "Thriller 141.1\n",
      "Biography 29.299999999999997\n",
      "Reality-TV 0.2\n",
      "History 20.7\n"
     ]
    }
   ],
   "source": [
    "#Determine the percent of total entries are attributed to each genre.\n",
    "\n",
    "unique_genres = data_m['genres'].unique()\n",
    "individual_genres = []\n",
    "for genre in unique_genres:\n",
    "    individual_genres.append(genre.split('|'))\n",
    "\n",
    "individual_genres = list(itertools.chain.from_iterable(individual_genres))\n",
    "individual_genres = set(individual_genres)\n",
    "\n",
    "\n",
    "genre_pcts = np.zeros(len(individual_genres))\n",
    "i = 0\n",
    "for genre in individual_genres:\n",
    "    current_genre = data_m['genres'].str.contains(genre).fillna(False)\n",
    "    pct = len(data_m[current_genre]) / 1000 * 100\n",
    "    genre_pcts[i] = pct\n",
    "    i += 1\n",
    "    print(genre, pct)"
   ]
  },
  {
   "cell_type": "code",
   "execution_count": 12,
   "metadata": {},
   "outputs": [
    {
     "data": {
      "text/html": [
       "<div>\n",
       "<style scoped>\n",
       "    .dataframe tbody tr th:only-of-type {\n",
       "        vertical-align: middle;\n",
       "    }\n",
       "\n",
       "    .dataframe tbody tr th {\n",
       "        vertical-align: top;\n",
       "    }\n",
       "\n",
       "    .dataframe thead th {\n",
       "        text-align: right;\n",
       "    }\n",
       "</style>\n",
       "<table border=\"1\" class=\"dataframe\">\n",
       "  <thead>\n",
       "    <tr style=\"text-align: right;\">\n",
       "      <th></th>\n",
       "      <th>Percent</th>\n",
       "    </tr>\n",
       "  </thead>\n",
       "  <tbody>\n",
       "    <tr>\n",
       "      <th>Short</th>\n",
       "      <td>0.5</td>\n",
       "    </tr>\n",
       "    <tr>\n",
       "      <th>Film-Noir</th>\n",
       "      <td>0.6</td>\n",
       "    </tr>\n",
       "    <tr>\n",
       "      <th>Family</th>\n",
       "      <td>54.6</td>\n",
       "    </tr>\n",
       "    <tr>\n",
       "      <th>News</th>\n",
       "      <td>0.3</td>\n",
       "    </tr>\n",
       "    <tr>\n",
       "      <th>War</th>\n",
       "      <td>21.3</td>\n",
       "    </tr>\n",
       "    <tr>\n",
       "      <th>Animation</th>\n",
       "      <td>24.2</td>\n",
       "    </tr>\n",
       "    <tr>\n",
       "      <th>Game-Show</th>\n",
       "      <td>0.1</td>\n",
       "    </tr>\n",
       "    <tr>\n",
       "      <th>Adventure</th>\n",
       "      <td>92.3</td>\n",
       "    </tr>\n",
       "    <tr>\n",
       "      <th>Romance</th>\n",
       "      <td>110.7</td>\n",
       "    </tr>\n",
       "    <tr>\n",
       "      <th>Music</th>\n",
       "      <td>32.6</td>\n",
       "    </tr>\n",
       "    <tr>\n",
       "      <th>Action</th>\n",
       "      <td>115.3</td>\n",
       "    </tr>\n",
       "    <tr>\n",
       "      <th>Drama</th>\n",
       "      <td>259.4</td>\n",
       "    </tr>\n",
       "    <tr>\n",
       "      <th>Horror</th>\n",
       "      <td>56.5</td>\n",
       "    </tr>\n",
       "    <tr>\n",
       "      <th>Comedy</th>\n",
       "      <td>187.2</td>\n",
       "    </tr>\n",
       "    <tr>\n",
       "      <th>Sport</th>\n",
       "      <td>18.2</td>\n",
       "    </tr>\n",
       "    <tr>\n",
       "      <th>Western</th>\n",
       "      <td>9.7</td>\n",
       "    </tr>\n",
       "    <tr>\n",
       "      <th>Sci-Fi</th>\n",
       "      <td>61.6</td>\n",
       "    </tr>\n",
       "    <tr>\n",
       "      <th>Documentary</th>\n",
       "      <td>12.1</td>\n",
       "    </tr>\n",
       "    <tr>\n",
       "      <th>Musical</th>\n",
       "      <td>13.2</td>\n",
       "    </tr>\n",
       "    <tr>\n",
       "      <th>Crime</th>\n",
       "      <td>88.9</td>\n",
       "    </tr>\n",
       "    <tr>\n",
       "      <th>Mystery</th>\n",
       "      <td>50.0</td>\n",
       "    </tr>\n",
       "    <tr>\n",
       "      <th>Fantasy</th>\n",
       "      <td>61.0</td>\n",
       "    </tr>\n",
       "    <tr>\n",
       "      <th>Thriller</th>\n",
       "      <td>141.1</td>\n",
       "    </tr>\n",
       "    <tr>\n",
       "      <th>Biography</th>\n",
       "      <td>29.3</td>\n",
       "    </tr>\n",
       "    <tr>\n",
       "      <th>Reality-TV</th>\n",
       "      <td>0.2</td>\n",
       "    </tr>\n",
       "    <tr>\n",
       "      <th>History</th>\n",
       "      <td>20.7</td>\n",
       "    </tr>\n",
       "  </tbody>\n",
       "</table>\n",
       "</div>"
      ],
      "text/plain": [
       "             Percent\n",
       "Short            0.5\n",
       "Film-Noir        0.6\n",
       "Family          54.6\n",
       "News             0.3\n",
       "War             21.3\n",
       "Animation       24.2\n",
       "Game-Show        0.1\n",
       "Adventure       92.3\n",
       "Romance        110.7\n",
       "Music           32.6\n",
       "Action         115.3\n",
       "Drama          259.4\n",
       "Horror          56.5\n",
       "Comedy         187.2\n",
       "Sport           18.2\n",
       "Western          9.7\n",
       "Sci-Fi          61.6\n",
       "Documentary     12.1\n",
       "Musical         13.2\n",
       "Crime           88.9\n",
       "Mystery         50.0\n",
       "Fantasy         61.0\n",
       "Thriller       141.1\n",
       "Biography       29.3\n",
       "Reality-TV       0.2\n",
       "History         20.7"
      ]
     },
     "execution_count": 12,
     "metadata": {},
     "output_type": "execute_result"
    }
   ],
   "source": [
    "#genre percentage value\n",
    "genre_pcts_df = pd.DataFrame(genre_pcts, index=individual_genres, columns=['Percent'])\n",
    "genre_pcts_df"
   ]
  },
  {
   "cell_type": "code",
   "execution_count": 13,
   "metadata": {},
   "outputs": [
    {
     "data": {
      "text/plain": [
       "Text(0.5, 1.0, 'Percent of Total Movies Made from Top 5 Genres')"
      ]
     },
     "execution_count": 13,
     "metadata": {},
     "output_type": "execute_result"
    },
    {
     "data": {
      "image/png": "[encoded data removed]",
      "text/plain": [
       "<Figure size 576x576 with 1 Axes>"
      ]
     },
     "metadata": {},
     "output_type": "display_data"
    }
   ],
   "source": [
    "explode = (0.05, 0.05, 0.08, 0.1, 0.12)\n",
    "colors = ['#ff3232', '#ff4c4c', '#ff6666', '#ff7f7f', '#ff9999', ]\n",
    "genre_pcts_df.sort_values(by='Percent', ascending=False).head(5).plot.pie(legend=False, subplots=True, autopct='%.2f%%', figsize=(8,8), colors=colors, explode=explode)\n",
    "plt.ylabel('')\n",
    "plt.title('Percent of Total Movies Made from Top 5 Genres', weight='bold', fontsize=16)"
   ]
  },
  {
   "cell_type": "code",
   "execution_count": 14,
   "metadata": {},
   "outputs": [
    {
     "data": {
      "image/png": "[encoded data removed]",
      "text/plain": [
       "<Figure size 1080x288 with 2 Axes>"
      ]
     },
     "metadata": {
      "needs_background": "light"
     },
     "output_type": "display_data"
    }
   ],
   "source": [
    "plt.figure(figsize=(15,4))\n",
    "plt.subplots_adjust(hspace = .2)\n",
    "plt.subplot(1,2,1)\n",
    "bar = data_m['country'].value_counts().head(10).plot(kind = 'bar',cmap='summer')\n",
    "bar.set_xticklabels(bar.get_xticklabels(),rotation=90,fontsize=10)\n",
    "plt.subplot(1,2,2)\n",
    "data_m['country'].value_counts().head(10).plot(kind = 'pie',cmap='jet',fontsize=10)\n",
    "plt.show()"
   ]
  },
  {
   "cell_type": "markdown",
   "metadata": {},
   "source": [
    "The maximum number of movies are associated with USA."
   ]
  },
  {
   "cell_type": "code",
   "execution_count": 15,
   "metadata": {},
   "outputs": [
    {
     "data": {
      "text/html": [
       "<div>\n",
       "<style scoped>\n",
       "    .dataframe tbody tr th:only-of-type {\n",
       "        vertical-align: middle;\n",
       "    }\n",
       "\n",
       "    .dataframe tbody tr th {\n",
       "        vertical-align: top;\n",
       "    }\n",
       "\n",
       "    .dataframe thead th {\n",
       "        text-align: right;\n",
       "    }\n",
       "</style>\n",
       "<table border=\"1\" class=\"dataframe\">\n",
       "  <thead>\n",
       "    <tr style=\"text-align: right;\">\n",
       "      <th></th>\n",
       "      <th>Revenue (Dollars)</th>\n",
       "    </tr>\n",
       "  </thead>\n",
       "  <tbody>\n",
       "    <tr>\n",
       "      <th>Steven Spielberg</th>\n",
       "      <td>4.114233e+09</td>\n",
       "    </tr>\n",
       "    <tr>\n",
       "      <th>Woody Allen</th>\n",
       "      <td>3.083454e+08</td>\n",
       "    </tr>\n",
       "    <tr>\n",
       "      <th>Clint Eastwood</th>\n",
       "      <td>1.378321e+09</td>\n",
       "    </tr>\n",
       "    <tr>\n",
       "      <th>Martin Scorsese</th>\n",
       "      <td>9.202871e+08</td>\n",
       "    </tr>\n",
       "    <tr>\n",
       "      <th>Ridley Scott</th>\n",
       "      <td>1.337772e+09</td>\n",
       "    </tr>\n",
       "    <tr>\n",
       "      <th>Spike Lee</th>\n",
       "      <td>3.285004e+08</td>\n",
       "    </tr>\n",
       "    <tr>\n",
       "      <th>Steven Soderbergh</th>\n",
       "      <td>1.050730e+09</td>\n",
       "    </tr>\n",
       "    <tr>\n",
       "      <th>Tim Burton</th>\n",
       "      <td>2.071275e+09</td>\n",
       "    </tr>\n",
       "    <tr>\n",
       "      <th>Renny Harlin</th>\n",
       "      <td>5.239759e+08</td>\n",
       "    </tr>\n",
       "    <tr>\n",
       "      <th>Oliver Stone</th>\n",
       "      <td>6.797927e+08</td>\n",
       "    </tr>\n",
       "  </tbody>\n",
       "</table>\n",
       "</div>"
      ],
      "text/plain": [
       "                   Revenue (Dollars)\n",
       "Steven Spielberg        4.114233e+09\n",
       "Woody Allen             3.083454e+08\n",
       "Clint Eastwood          1.378321e+09\n",
       "Martin Scorsese         9.202871e+08\n",
       "Ridley Scott            1.337772e+09\n",
       "Spike Lee               3.285004e+08\n",
       "Steven Soderbergh       1.050730e+09\n",
       "Tim Burton              2.071275e+09\n",
       "Renny Harlin            5.239759e+08\n",
       "Oliver Stone            6.797927e+08"
      ]
     },
     "execution_count": 15,
     "metadata": {},
     "output_type": "execute_result"
    }
   ],
   "source": [
    "directors = data_m['director_name'].value_counts().head(10)\n",
    "directors.reset_index()\n",
    "dir_rev = np.zeros(len(directors))\n",
    "i = 0\n",
    "for director in directors.index:\n",
    "    current_director = data_m['director_name'].str.contains(director).fillna(False)\n",
    "    director_film_revenue = data_m[current_director].xs('gross', axis=1).sum()\n",
    "    dir_rev[i] = director_film_revenue\n",
    "    i += 1\n",
    "dir_rev_df = pd.DataFrame(dir_rev, index = directors.index, columns=['Revenue (Dollars)'])\n",
    "dir_rev_df"
   ]
  },
  {
   "cell_type": "markdown",
   "metadata": {},
   "source": [
    "Revenue each of these top 10 directors' films brought in. "
   ]
  },
  {
   "cell_type": "code",
   "execution_count": 16,
   "metadata": {},
   "outputs": [
    {
     "data": {
      "text/plain": [
       "Text(0.5, 1.0, 'Most Active Directors Revenue Contribution')"
      ]
     },
     "execution_count": 16,
     "metadata": {},
     "output_type": "execute_result"
    },
    {
     "data": {
      "image/png": "[encoded data removed]",
      "text/plain": [
       "<Figure size 576x576 with 1 Axes>"
      ]
     },
     "metadata": {},
     "output_type": "display_data"
    }
   ],
   "source": [
    "explode = np.linspace(0, 0.5, 10)\n",
    "colors = ['#ff0000', '#ff1919','#ff3232', '#ff4c4c', '#ff6666', '#ff7f7f', '#ff9999', '#ffb2b2', '#ffcccc', '#ffe5e5', ]\n",
    "dir_rev_df.sort_values(by='Revenue (Dollars)', ascending=False).plot.pie(legend=False, subplots=True, autopct='%.2f%%', figsize=(8,8), colors=colors, explode=explode)\n",
    "plt.ylabel('')\n",
    "plt.title('Most Active Directors Revenue Contribution', weight='bold', fontsize=16)"
   ]
  },
  {
   "cell_type": "code",
   "execution_count": 17,
   "metadata": {},
   "outputs": [
    {
     "data": {
      "text/plain": [
       "[Text(0, 0, 'English'),\n",
       " Text(0, 0, 'French'),\n",
       " Text(0, 0, 'Spanish'),\n",
       " Text(0, 0, 'Hindi'),\n",
       " Text(0, 0, 'Mandarin'),\n",
       " Text(0, 0, 'German'),\n",
       " Text(0, 0, 'Japanese'),\n",
       " Text(0, 0, 'Cantonese'),\n",
       " Text(0, 0, 'Russian'),\n",
       " Text(0, 0, 'Italian')]"
      ]
     },
     "execution_count": 17,
     "metadata": {},
     "output_type": "execute_result"
    },
    {
     "data": {
      "text/plain": [
       "<Figure size 1080x432 with 0 Axes>"
      ]
     },
     "metadata": {},
     "output_type": "display_data"
    },
    {
     "data": {
      "image/png": "[encoded data removed]",
      "text/plain": [
       "<Figure size 720x1008 with 1 Axes>"
      ]
     },
     "metadata": {
      "needs_background": "light"
     },
     "output_type": "display_data"
    }
   ],
   "source": [
    "plt.figure(figsize = (15,6))\n",
    "temp_df = data_m[data_m['language'] != 'Not defined']\n",
    "\n",
    "plt.figure(figsize=(10,6))\n",
    "bar = temp_df['language'].value_counts().head(10).plot(kind = 'bar',color = ['skyblue','darkgreen','purple','indigo','darkred'], figsize=(10,14))\n",
    "bar.set_xticklabels(bar.get_xticklabels(),rotation=90,fontsize=14)"
   ]
  }
 ],
 "metadata": {
  "kernelspec": {
   "display_name": "Python 3",
   "language": "python",
   "name": "python3"
  },
  "language_info": {
   "codemirror_mode": {
    "name": "ipython",
    "version": 3
   },
   "file_extension": ".py",
   "mimetype": "text/x-python",
   "name": "python",
   "nbconvert_exporter": "python",
   "pygments_lexer": "ipython3",
   "version": "3.7.3"
  }
 },
 "nbformat": 4,
 "nbformat_minor": 2
}
